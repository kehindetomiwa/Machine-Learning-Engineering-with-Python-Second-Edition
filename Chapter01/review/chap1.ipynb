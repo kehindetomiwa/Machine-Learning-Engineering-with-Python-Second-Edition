{
 "cells": [
  {
   "cell_type": "code",
   "execution_count": 2,
   "metadata": {},
   "outputs": [],
   "source": [
    "import logging\n",
    "import numpy as np\n",
    "import pandas as pd\n",
    "import matplotlib.pyplot as plt\n",
    "plt.rcParams.update({'font.size': 22})\n",
    "import datetime\n",
    "from numpy.random import MT19937\n",
    "from numpy.random import RandomState, SeedSequence\n",
    "rs = RandomState(MT19937(SeedSequence(123456789)))"
   ]
  },
  {
   "cell_type": "code",
   "execution_count": 5,
   "metadata": {},
   "outputs": [
    {
     "data": {
      "text/plain": [
       "array([0.36291008, 0.34596865])"
      ]
     },
     "execution_count": 5,
     "metadata": {},
     "output_type": "execute_result"
    }
   ],
   "source": [
    "10 * np.random.random(size=2)/ 10 * np.random.random(size=2)"
   ]
  },
  {
   "cell_type": "code",
   "execution_count": 6,
   "metadata": {},
   "outputs": [],
   "source": [
    "def simulate_ride_distances():\n",
    "    logging.info('Simulating ride distances ...')\n",
    "    ride_dists = np.concatenate(\n",
    "        (\n",
    "            10 * np.random.random(size=370),\n",
    "            30 * np.random.random(size=10),  # long distances\n",
    "            10 * np.random.random(size=10),  # same distance\n",
    "            10 * np.random.random(size=10)  # same distance\n",
    "        )\n",
    "    )\n",
    "    return ride_dists"
   ]
  },
  {
   "cell_type": "code",
   "execution_count": 12,
   "metadata": {},
   "outputs": [
    {
     "data": {
      "text/plain": [
       "(400,)"
      ]
     },
     "execution_count": 12,
     "metadata": {},
     "output_type": "execute_result"
    }
   ],
   "source": [
    "ride_dists = simulate_ride_distances()\n",
    "ride_dists.shape"
   ]
  },
  {
   "cell_type": "code",
   "execution_count": 7,
   "metadata": {},
   "outputs": [],
   "source": [
    "def simulate_ride_speeds():\n",
    "    logging.info('Simulating ride speeds ...')\n",
    "    ride_speeds = np.concatenate(\n",
    "        (\n",
    "            np.random.normal(loc=30, scale=5, size=370),\n",
    "            np.random.normal(loc=30, scale=5, size=10), # same speed\n",
    "            np.random.normal(loc=50, scale=10, size=10), # high speed\n",
    "            np.random.normal(loc=15, scale=4, size=10) #low speed\n",
    "        )\n",
    "    )\n",
    "    return ride_speeds"
   ]
  },
  {
   "cell_type": "code",
   "execution_count": 9,
   "metadata": {},
   "outputs": [],
   "source": [
    "ride_dists = simulate_ride_distances()\n",
    "ride_speeds = simulate_ride_speeds()\n",
    "ride_times = ride_dists/ride_speeds\n"
   ]
  },
  {
   "cell_type": "code",
   "execution_count": 10,
   "metadata": {},
   "outputs": [],
   "source": [
    "df = pd.DataFrame(\n",
    "        {\n",
    "            'ride_dist': ride_dists,\n",
    "            'ride_time': ride_times,\n",
    "            'ride_speed': ride_speeds\n",
    "        }\n",
    "    )"
   ]
  },
  {
   "cell_type": "code",
   "execution_count": 13,
   "metadata": {},
   "outputs": [
    {
     "data": {
      "text/html": [
       "<div>\n",
       "<style scoped>\n",
       "    .dataframe tbody tr th:only-of-type {\n",
       "        vertical-align: middle;\n",
       "    }\n",
       "\n",
       "    .dataframe tbody tr th {\n",
       "        vertical-align: top;\n",
       "    }\n",
       "\n",
       "    .dataframe thead th {\n",
       "        text-align: right;\n",
       "    }\n",
       "</style>\n",
       "<table border=\"1\" class=\"dataframe\">\n",
       "  <thead>\n",
       "    <tr style=\"text-align: right;\">\n",
       "      <th></th>\n",
       "      <th>ride_dist</th>\n",
       "      <th>ride_time</th>\n",
       "      <th>ride_speed</th>\n",
       "    </tr>\n",
       "  </thead>\n",
       "  <tbody>\n",
       "    <tr>\n",
       "      <th>0</th>\n",
       "      <td>1.673642</td>\n",
       "      <td>0.039879</td>\n",
       "      <td>41.968195</td>\n",
       "    </tr>\n",
       "    <tr>\n",
       "      <th>1</th>\n",
       "      <td>7.830366</td>\n",
       "      <td>0.245101</td>\n",
       "      <td>31.947554</td>\n",
       "    </tr>\n",
       "    <tr>\n",
       "      <th>2</th>\n",
       "      <td>3.838517</td>\n",
       "      <td>0.101725</td>\n",
       "      <td>37.734316</td>\n",
       "    </tr>\n",
       "    <tr>\n",
       "      <th>3</th>\n",
       "      <td>5.523053</td>\n",
       "      <td>0.250986</td>\n",
       "      <td>22.005420</td>\n",
       "    </tr>\n",
       "    <tr>\n",
       "      <th>4</th>\n",
       "      <td>5.780002</td>\n",
       "      <td>0.259880</td>\n",
       "      <td>22.241025</td>\n",
       "    </tr>\n",
       "  </tbody>\n",
       "</table>\n",
       "</div>"
      ],
      "text/plain": [
       "   ride_dist  ride_time  ride_speed\n",
       "0   1.673642   0.039879   41.968195\n",
       "1   7.830366   0.245101   31.947554\n",
       "2   3.838517   0.101725   37.734316\n",
       "3   5.523053   0.250986   22.005420\n",
       "4   5.780002   0.259880   22.241025"
      ]
     },
     "execution_count": 13,
     "metadata": {},
     "output_type": "execute_result"
    }
   ],
   "source": [
    "df.head()"
   ]
  },
  {
   "cell_type": "code",
   "execution_count": 15,
   "metadata": {},
   "outputs": [
    {
     "data": {
      "text/plain": [
       "(400, 3)"
      ]
     },
     "execution_count": 15,
     "metadata": {},
     "output_type": "execute_result"
    }
   ],
   "source": [
    "df.shape"
   ]
  },
  {
   "cell_type": "code",
   "execution_count": 17,
   "metadata": {},
   "outputs": [
    {
     "data": {
      "text/plain": [
       "('20241008',\n",
       " Index(['0', '1', '2', '3', '4', '5', '6', '7', '8', '9',\n",
       "        ...\n",
       "        '390', '391', '392', '393', '394', '395', '396', '397', '398', '399'],\n",
       "       dtype='object', length=400))"
      ]
     },
     "execution_count": 17,
     "metadata": {},
     "output_type": "execute_result"
    }
   ],
   "source": [
    "datetime.datetime.now().strftime(\"%Y%m%d\"), df.index.astype(str)"
   ]
  },
  {
   "cell_type": "code",
   "execution_count": 18,
   "metadata": {},
   "outputs": [
    {
     "data": {
      "text/plain": [
       "Index(['202410080', '202410081', '202410082', '202410083', '202410084',\n",
       "       '202410085', '202410086', '202410087', '202410088', '202410089',\n",
       "       ...\n",
       "       '20241008390', '20241008391', '20241008392', '20241008393',\n",
       "       '20241008394', '20241008395', '20241008396', '20241008397',\n",
       "       '20241008398', '20241008399'],\n",
       "      dtype='object', length=400)"
      ]
     },
     "execution_count": 18,
     "metadata": {},
     "output_type": "execute_result"
    }
   ],
   "source": [
    "datetime.datetime.now().strftime(\"%Y%m%d\") + df.index.astype(str)"
   ]
  },
  {
   "cell_type": "code",
   "execution_count": 19,
   "metadata": {},
   "outputs": [
    {
     "data": {
      "text/plain": [
       "(str, pandas.core.indexes.base.Index)"
      ]
     },
     "execution_count": 19,
     "metadata": {},
     "output_type": "execute_result"
    }
   ],
   "source": [
    "type(datetime.datetime.now().strftime(\"%Y%m%d\")), type( df.index.astype(str) )"
   ]
  },
  {
   "cell_type": "code",
   "execution_count": null,
   "metadata": {},
   "outputs": [],
   "source": []
  }
 ],
 "metadata": {
  "kernelspec": {
   "display_name": "mlewp-chapter01",
   "language": "python",
   "name": "python3"
  },
  "language_info": {
   "codemirror_mode": {
    "name": "ipython",
    "version": 3
   },
   "file_extension": ".py",
   "mimetype": "text/x-python",
   "name": "python",
   "nbconvert_exporter": "python",
   "pygments_lexer": "ipython3",
   "version": "3.10.9"
  }
 },
 "nbformat": 4,
 "nbformat_minor": 2
}
